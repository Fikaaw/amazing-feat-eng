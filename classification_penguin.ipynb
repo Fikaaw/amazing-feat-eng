{
  "nbformat": 4,
  "nbformat_minor": 0,
  "metadata": {
    "colab": {
      "provenance": [],
      "include_colab_link": true
    },
    "kernelspec": {
      "name": "python3",
      "display_name": "Python 3"
    },
    "language_info": {
      "name": "python"
    }
  },
  "cells": [
    {
      "cell_type": "markdown",
      "metadata": {
        "id": "view-in-github",
        "colab_type": "text"
      },
      "source": [
        "<a href=\"https://colab.research.google.com/github/Fikaaw/amazing-feat-eng/blob/main/classification_penguin.ipynb\" target=\"_parent\"><img src=\"https://colab.research.google.com/assets/colab-badge.svg\" alt=\"Open In Colab\"/></a>"
      ]
    },
    {
      "cell_type": "code",
      "metadata": {
        "id": "A_ggDl-VUYjm"
      },
      "source": [
        "import pandas as pd\n",
        "import numpy as np"
      ],
      "execution_count": null,
      "outputs": []
    },
    {
      "cell_type": "code",
      "metadata": {
        "id": "0WHHUhKtT47J"
      },
      "source": [
        "import seaborn as sns\n",
        "penguin = sns.load_dataset('penguins')"
      ],
      "execution_count": null,
      "outputs": []
    },
    {
      "cell_type": "code",
      "metadata": {
        "id": "fs6iKHvTxiWr"
      },
      "source": [
        "import matplotlib.pyplot as plt\n",
        "%matplotlib inline"
      ],
      "execution_count": null,
      "outputs": []
    },
    {
      "cell_type": "code",
      "metadata": {
        "id": "Q448Y7SFUd81"
      },
      "source": [
        "penguin.shape"
      ],
      "execution_count": null,
      "outputs": []
    },
    {
      "cell_type": "code",
      "metadata": {
        "id": "ACjXZqRjUho1"
      },
      "source": [
        "penguin.sample(2)"
      ],
      "execution_count": null,
      "outputs": []
    },
    {
      "cell_type": "code",
      "metadata": {
        "id": "VVMxmBp0UmuF"
      },
      "source": [
        "#check data statistics\n",
        "penguin.describe()\n",
        "# penguin.describe(include='all')"
      ],
      "execution_count": null,
      "outputs": []
    },
    {
      "cell_type": "code",
      "metadata": {
        "id": "bQLkEGBHxZ-q"
      },
      "source": [
        "penguin['species'].value_counts().plot(kind='barh')\n",
        "plt.show()"
      ],
      "execution_count": null,
      "outputs": []
    },
    {
      "cell_type": "code",
      "metadata": {
        "id": "l0n2RfxXXBul"
      },
      "source": [
        "#check species distribution\n",
        "penguin.groupby('species').size()"
      ],
      "execution_count": null,
      "outputs": []
    },
    {
      "cell_type": "code",
      "metadata": {
        "id": "W7Et8ahvXzmg"
      },
      "source": [
        "#check island distribution\n",
        "penguin.groupby('island').size()"
      ],
      "execution_count": null,
      "outputs": []
    },
    {
      "cell_type": "code",
      "metadata": {
        "id": "V_GJApNXX8yi"
      },
      "source": [
        "#check sex distribution\n",
        "penguin.groupby('sex').size()"
      ],
      "execution_count": null,
      "outputs": []
    },
    {
      "cell_type": "code",
      "metadata": {
        "id": "s7JvZ4HAVlCe"
      },
      "source": [
        "#check missing values\n",
        "penguin.isnull().sum()"
      ],
      "execution_count": null,
      "outputs": []
    },
    {
      "cell_type": "code",
      "metadata": {
        "id": "eIWBoTRdwWCP"
      },
      "source": [
        "#missing data replace\n",
        "new_penguin = penguin.copy()\n",
        "\n",
        "new_penguin['bill_length_mm'].fillna(np.mean(penguin['bill_length_mm']), inplace = True)\n",
        "new_penguin['bill_depth_mm'].fillna(np.mean(penguin['bill_depth_mm']), inplace = True)\n",
        "new_penguin['flipper_length_mm'].fillna(np.mean(penguin['flipper_length_mm']), inplace = True)\n",
        "new_penguin['body_mass_g'].fillna(np.mean(penguin['body_mass_g']), inplace = True)\n",
        "new_penguin['sex'].fillna(penguin['sex'].mode()[0], inplace = True)\n",
        "new_penguin.isnull().sum()"
      ],
      "execution_count": null,
      "outputs": []
    },
    {
      "cell_type": "code",
      "metadata": {
        "id": "TgbXfgpzxv3A"
      },
      "source": [
        "#simple visualization\n",
        "g=sns.relplot(x='bill_length_mm',y='bill_depth_mm',data=new_penguin,hue='species',style='species')\n",
        "g.fig.set_size_inches(10,5)\n",
        "plt.show()"
      ],
      "execution_count": null,
      "outputs": []
    },
    {
      "cell_type": "code",
      "metadata": {
        "id": "clcmBkSUx2Ml"
      },
      "source": [
        "#simple visualization\n",
        "g=sns.relplot(x='flipper_length_mm',y='body_mass_g',data=new_penguin,hue='species',style='species')\n",
        "g.fig.set_size_inches(10,5)\n",
        "plt.show()"
      ],
      "execution_count": null,
      "outputs": []
    },
    {
      "cell_type": "code",
      "metadata": {
        "id": "3iRXue8LyyNk"
      },
      "source": [
        "sns.pairplot(new_penguin,hue=\"species\")\n",
        "plt.show()"
      ],
      "execution_count": null,
      "outputs": []
    },
    {
      "cell_type": "code",
      "metadata": {
        "id": "fsLkcb3JzvGP"
      },
      "source": [
        "#Feature Engineering\n",
        "new_penguin_dummy = pd.get_dummies(new_penguin, columns = ['sex', 'island'], drop_first = True, dtype='int')\n",
        "new_penguin_dummy.head()"
      ],
      "execution_count": null,
      "outputs": []
    },
    {
      "cell_type": "code",
      "source": [
        "# Select only numeric features from the DataFrame\n",
        "numeric_features = new_penguin_dummy.select_dtypes(include=['number'])\n",
        "\n",
        "# Correlation heatmap\n",
        "plt.figure(figsize=(10, 5))\n",
        "sns.heatmap(numeric_features.corr(), annot=True, fmt=\".2f\", cmap='coolwarm')\n",
        "plt.title(\"Correlation Heatmap of Penguin Features\")\n",
        "plt.show()"
      ],
      "metadata": {
        "id": "ui6Wv2ZPO66b"
      },
      "execution_count": null,
      "outputs": []
    },
    {
      "cell_type": "code",
      "metadata": {
        "id": "v5r_USDK1gEn"
      },
      "source": [
        "#split data\n",
        "from sklearn.model_selection import train_test_split\n",
        "\n",
        "X =new_penguin_dummy.drop(['species'], axis=1)\n",
        "Y =new_penguin_dummy['species']\n",
        "\n",
        "X_train,X_test,y_train,y_test = train_test_split(X,Y ,test_size=0.30, random_state=0)\n",
        "\n",
        "print(\"X_train shape :\",X_train.shape)\n",
        "print(\"Y_train shape :\",y_train.shape)\n",
        "print(\"X_test shape :\",X_test.shape)\n",
        "print(\"Y_test shape :\",y_test.shape)"
      ],
      "execution_count": null,
      "outputs": []
    },
    {
      "cell_type": "code",
      "metadata": {
        "id": "WsaUFHF-y9ZQ"
      },
      "source": [
        "#feature Scaling\n",
        "from sklearn import preprocessing\n",
        "\n",
        "scaler=preprocessing.MinMaxScaler()\n",
        "\n",
        "X_train_scaled=scaler.fit_transform(X_train) #Scaling and fitting the training set to a model\n",
        "X_test_scaled=scaler.transform(X_test) #Transformation of testing set based off of trained scaler model"
      ],
      "execution_count": null,
      "outputs": []
    },
    {
      "cell_type": "code",
      "metadata": {
        "id": "VI2u6x4Z2z6p"
      },
      "source": [
        "X_train.head()"
      ],
      "execution_count": null,
      "outputs": []
    },
    {
      "cell_type": "code",
      "metadata": {
        "id": "XYMQyE1M3D48"
      },
      "source": [
        "from sklearn.linear_model import LogisticRegression\n",
        "\n",
        "LR = LogisticRegression()\n",
        "LR.fit(X_train_scaled, y_train)\n",
        "\n",
        "pred = LR.predict(X_test_scaled)"
      ],
      "execution_count": null,
      "outputs": []
    },
    {
      "cell_type": "code",
      "metadata": {
        "id": "TLQLdBKP6Ip-"
      },
      "source": [
        "print(\"Class\")\n",
        "print(LR.classes_)\n",
        "print(\"weights\")\n",
        "print(LR.coef_)\n",
        "print(\"bias\")\n",
        "print(LR.intercept_)"
      ],
      "execution_count": null,
      "outputs": []
    },
    {
      "cell_type": "code",
      "metadata": {
        "id": "Hgftii773wwA"
      },
      "source": [
        "from sklearn.metrics import accuracy_score, classification_report, confusion_matrix\n",
        "print('CLASSIFICATION REPORT\\n')\n",
        "print(classification_report(y_test, pred))"
      ],
      "execution_count": null,
      "outputs": []
    },
    {
      "cell_type": "code",
      "metadata": {
        "id": "VC35ZvT14IkQ"
      },
      "source": [
        "print('CONFUSION MATRIX')\n",
        "print(confusion_matrix(y_test, pred))"
      ],
      "execution_count": null,
      "outputs": []
    },
    {
      "cell_type": "code",
      "metadata": {
        "id": "PqcNbids4jOE"
      },
      "source": [
        "from sklearn.neighbors import KNeighborsClassifier\n",
        "\n",
        "KNN = KNeighborsClassifier()\n",
        "# KNN.fit(X_train, y_train)\n",
        "KNN.fit(X_train_scaled, y_train)\n",
        "\n",
        "# pred = KNN.predict(X_test)\n",
        "pred = KNN.predict(X_test_scaled)\n",
        "\n",
        "print('CLASSIFICATION REPORT\\n')\n",
        "print(classification_report(y_test, pred))\n",
        "\n",
        "print('CONFUSION MATRIX')\n",
        "print(confusion_matrix(y_test, pred))"
      ],
      "execution_count": null,
      "outputs": []
    }
  ]
}